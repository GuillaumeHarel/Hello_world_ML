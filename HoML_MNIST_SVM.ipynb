{
 "cells": [
  {
   "cell_type": "markdown",
   "metadata": {},
   "source": [
    "# MNIST Dataset - \"Hello World\" ML"
   ]
  },
  {
   "cell_type": "markdown",
   "metadata": {},
   "source": [
    "### **Exercise : Try to build a classifier that achieved over 97% on the well known MNIST Dataset**"
   ]
  },
  {
   "cell_type": "markdown",
   "metadata": {},
   "source": [
    "From A. Guéron, \"Hands-On Machine Learning with Scikit-Learn & TensorFlow\", O'Reilly, 2017.\n",
    "<br>\n",
    "Chapter 3 - Classification. Notebook of the author available \n",
    "[here](https://github.com/ageron/handson-ml/blob/master/03_classification.ipynb)"
   ]
  },
  {
   "cell_type": "markdown",
   "metadata": {},
   "source": [
    "### *Short context* "
   ]
  },
  {
   "cell_type": "markdown",
   "metadata": {},
   "source": [
    "The MNIST Dataset is composed of 70 000 black and white images of single digits hand-written by the US Census Bureau and high school students. All the 70 000 images have been normalized to fit into 28*28 pixel bouding box and anti-aliased.\n",
    "<br>\n",
    "The MNIST dataset is composed of 60 000 images for the training set and 10 000 images for the test set. Each image is stored as a flattened array containing the intensity of every 784 pixels, ranging from 0 (white) to 255 (black). \n",
    "<br>\n",
    "For more info, [Wikipedia](https://en.wikipedia.org/wiki/MNIST_database)"
   ]
  },
  {
   "cell_type": "markdown",
   "metadata": {},
   "source": [
    "#### *Key skills* : Image processing, Hello World computer vision, Multinomial classification, Kernel SVM"
   ]
  },
  {
   "cell_type": "markdown",
   "metadata": {},
   "source": [
    "### **Set up**"
   ]
  },
  {
   "cell_type": "markdown",
   "metadata": {},
   "source": [
    "#### **Importing librairies**"
   ]
  },
  {
   "cell_type": "code",
   "execution_count": 1,
   "metadata": {},
   "outputs": [],
   "source": [
    "import sys\n",
    "import os\n",
    "\n",
    "import numpy as np\n",
    "import scipy as sp\n",
    "from scipy.ndimage.interpolation import shift\n",
    "from scipy.ndimage.measurements import center_of_mass\n",
    "from scipy.stats import expon, reciprocal\n",
    "import matplotlib\n",
    "import matplotlib.pyplot as plt\n",
    "%matplotlib inline\n",
    "\n",
    "import sklearn\n",
    "from sklearn.datasets import fetch_mldata\n",
    "from sklearn.metrics import confusion_matrix, accuracy_score\n",
    "from sklearn.linear_model import SGDClassifier, LogisticRegression\n",
    "from sklearn.ensemble import RandomForestClassifier\n",
    "from sklearn.neighbors import KNeighborsClassifier\n",
    "from sklearn.svm import SVC, LinearSVC\n",
    "from sklearn.model_selection import cross_val_predict, cross_val_score, RandomizedSearchCV, GridSearchCV\n",
    "from sklearn.preprocessing import StandardScaler, MinMaxScaler\n",
    "from sklearn.pipeline import Pipeline\n",
    "from sklearn.base import BaseEstimator, TransformerMixin\n",
    "from sklearn.externals import joblib\n",
    "\n",
    "import warnings\n",
    "from sklearn.exceptions import DataConversionWarning\n"
   ]
  },
  {
   "cell_type": "code",
   "execution_count": 2,
   "metadata": {},
   "outputs": [
    {
     "name": "stdout",
     "output_type": "stream",
     "text": [
      "Python interpreter :  3.7.1 (default, Dec 10 2018, 22:54:23) [MSC v.1915 64 bit (AMD64)]\n",
      "Numpy version :  1.15.4\n",
      "Scipy version :  1.1.0\n",
      "Matplotlib version :  3.0.2\n",
      "Scikit learn version :  0.20.1\n"
     ]
    }
   ],
   "source": [
    "print(\"Python interpreter : \", sys.version)\n",
    "print(\"Numpy version : \", np.__version__)\n",
    "print(\"Scipy version : \", sp.__version__)\n",
    "print(\"Matplotlib version : \", matplotlib.__version__)\n",
    "print(\"Scikit learn version : \", sklearn.__version__)"
   ]
  },
  {
   "cell_type": "code",
   "execution_count": 3,
   "metadata": {},
   "outputs": [],
   "source": [
    "warnings.simplefilter(action='ignore', category=(FutureWarning, DataConversionWarning))\n",
    "np.set_printoptions(threshold=np.NaN)  #no limit to display full array\n",
    "np.set_printoptions(suppress=True) #remove scientific notation\n",
    "plt.style.use('default')\n",
    "MODEL_SAVING_PATH = \"./Models\""
   ]
  },
  {
   "cell_type": "markdown",
   "metadata": {},
   "source": [
    "#### **Data import & preparation**"
   ]
  },
  {
   "cell_type": "code",
   "execution_count": 4,
   "metadata": {},
   "outputs": [
    {
     "name": "stderr",
     "output_type": "stream",
     "text": [
      "C:\\Users\\ghare\\Anaconda3\\lib\\site-packages\\sklearn\\utils\\deprecation.py:77: DeprecationWarning: Function fetch_mldata is deprecated; fetch_mldata was deprecated in version 0.20 and will be removed in version 0.22\n",
      "  warnings.warn(msg, category=DeprecationWarning)\n",
      "C:\\Users\\ghare\\Anaconda3\\lib\\site-packages\\sklearn\\utils\\deprecation.py:77: DeprecationWarning: Function mldata_filename is deprecated; mldata_filename was deprecated in version 0.20 and will be removed in version 0.22\n",
      "  warnings.warn(msg, category=DeprecationWarning)\n"
     ]
    }
   ],
   "source": [
    "mnist = fetch_mldata('MNIST original')\n",
    "X,y = mnist['data'], mnist['target']\n",
    "\n",
    "X_train, X_test, y_train, y_test = X[:60000], X[60000:], y[:60000], y[60000:]\n",
    "np.random.seed(42)\n",
    "shuffle_index = np.random.permutation(60000)\n",
    "X_train, y_train = X[shuffle_index], y[shuffle_index]"
   ]
  },
  {
   "cell_type": "markdown",
   "metadata": {},
   "source": [
    "### **Ultra quick EDA**"
   ]
  },
  {
   "cell_type": "code",
   "execution_count": null,
   "metadata": {},
   "outputs": [
    {
     "name": "stdout",
     "output_type": "stream",
     "text": [
      "X_train shape : (60000, 784), y_train shape : (60000,)\n"
     ]
    }
   ],
   "source": [
    "print(\"X_train shape : {}, y_train shape : {}\".format(X_train.shape, y_train.shape))"
   ]
  },
  {
   "cell_type": "markdown",
   "metadata": {},
   "source": [
    "A quick check for missing values or outliers"
   ]
  },
  {
   "cell_type": "code",
   "execution_count": null,
   "metadata": {},
   "outputs": [
    {
     "name": "stdout",
     "output_type": "stream",
     "text": [
      "Missing value in X_train and y_train : (0, 0)\n",
      "Min - Max values for pixel intensity 0 - 255\n"
     ]
    }
   ],
   "source": [
    "print(\"Missing value in X_train and y_train : ({}, {})\".format(np.isnan(X_train).sum(), \n",
    "                                                               np.isnan(y_train).sum()))\n",
    "print(\"Min - Max values for pixel intensity {} - {}\".format(X_train.min(), X_train.max()))"
   ]
  },
  {
   "cell_type": "code",
   "execution_count": null,
   "metadata": {},
   "outputs": [
    {
     "data": {
      "image/png": "[encoded data removed]",
      "text/plain": [
       "<Figure size 640x480 with 1 Axes>"
      ]
     },
     "metadata": {},
     "output_type": "display_data"
    }
   ],
   "source": [
    "plt.hist(X_train.flatten(), bins=range(0, 260, 5), log=True)\n",
    "plt.xlabel('Pixel intensity')\n",
    "plt.ylabel('Frequency (count)')\n",
    "plt.show()"
   ]
  },
  {
   "cell_type": "code",
   "execution_count": null,
   "metadata": {},
   "outputs": [
    {
     "data": {
      "image/png": "[encoded data removed]",
      "text/plain": [
       "<Figure size 640x480 with 1 Axes>"
      ]
     },
     "metadata": {},
     "output_type": "display_data"
    }
   ],
   "source": [
    "unique, counts = np.unique(y_train, return_counts=True)\n",
    "plt.bar(x= unique, height=counts, tick_label=range(10))\n",
    "plt.xlabel('Digit')\n",
    "plt.ylabel('Counts')\n",
    "plt.show()"
   ]
  },
  {
   "cell_type": "code",
   "execution_count": null,
   "metadata": {},
   "outputs": [
    {
     "data": {
      "image/png": "[encoded data removed]",
      "text/plain": [
       "<Figure size 800x800 with 2 Axes>"
      ]
     },
     "metadata": {},
     "output_type": "display_data"
    }
   ],
   "source": [
    "some_digit = X_train[42]\n",
    "some_digit_image = some_digit.reshape(28, 28)\n",
    "fig, ax_arr = plt.subplots(1, 2, figsize=(8, 8))\n",
    "ax_arr[0].imshow(some_digit_image, cmap=matplotlib.cm.binary, interpolation=\"nearest\")\n",
    "ax_arr[0].set(xlabel=\"x\", ylabel='y')\n",
    "ax_arr[1].imshow(some_digit_image, cmap=matplotlib.cm.binary, interpolation=\"nearest\")\n",
    "ax_arr[1].axis('off')\n",
    "plt.tight_layout()\n",
    "plt.show()"
   ]
  },
  {
   "cell_type": "markdown",
   "metadata": {},
   "source": [
    "Overview of random digits, function code below from A. Guéron Notebook"
   ]
  },
  {
   "cell_type": "code",
   "execution_count": null,
   "metadata": {},
   "outputs": [],
   "source": [
    "def plot_digits(instances, images_per_row=10, **options):\n",
    "    size = 28\n",
    "    images_per_row = min(len(instances), images_per_row)\n",
    "    images = [instance.reshape(size,size) for instance in instances]\n",
    "    n_rows = (len(instances) - 1) // images_per_row + 1\n",
    "    row_images = []\n",
    "    n_empty = n_rows * images_per_row - len(instances)\n",
    "    images.append(np.zeros((size, size * n_empty)))\n",
    "    for row in range(n_rows):\n",
    "        rimages = images[row * images_per_row : (row + 1) * images_per_row]\n",
    "        row_images.append(np.concatenate(rimages, axis=1))\n",
    "    image = np.concatenate(row_images, axis=0)\n",
    "    plt.imshow(image, cmap = matplotlib.cm.binary, **options)\n",
    "    plt.axis(\"off\")"
   ]
  },
  {
   "cell_type": "code",
   "execution_count": null,
   "metadata": {},
   "outputs": [
    {
     "data": {
      "image/png": "[encoded data removed]",
      "text/plain": [
       "<Figure size 900x900 with 1 Axes>"
      ]
     },
     "metadata": {},
     "output_type": "display_data"
    }
   ],
   "source": [
    "plt.figure(figsize=(9,9))\n",
    "example_images = np.r_[X[:12000:600], X[13000:30600:600], X[30600:60000:590]]\n",
    "plot_digits(example_images, images_per_row=10)\n",
    "plt.show()"
   ]
  },
  {
   "cell_type": "markdown",
   "metadata": {},
   "source": [
    "### **Machine learning**"
   ]
  },
  {
   "cell_type": "markdown",
   "metadata": {},
   "source": [
    "#### **Short-list promising models**"
   ]
  },
  {
   "cell_type": "code",
   "execution_count": null,
   "metadata": {},
   "outputs": [
    {
     "name": "stderr",
     "output_type": "stream",
     "text": [
      "[Parallel(n_jobs=-1)]: Using backend LokyBackend with 4 concurrent workers.\n"
     ]
    }
   ],
   "source": [
    "model_d1 = {\n",
    "    'knn': KNeighborsClassifier(),\n",
    "    'logit': LogisticRegression(),\n",
    "    'rFor': RandomForestClassifier(),\n",
    "}\n",
    "for key, clf in model_d1.items():\n",
    "    pipeline = Pipeline([\n",
    "        ('scaler', MinMaxScaler()), #not needed for Random Forest\n",
    "        ('clf', clf)\n",
    "    ])\n",
    "    cv = cross_val_score(pipeline, X_train, y_train, scoring='accuracy', cv=3, verbose=2, n_jobs=-1)\n",
    "    print(\"Accuracy for 3Fcv with {} : mean : {:.1f}%, Std : {:.2f}%\".format(key, 100 * cv.mean(), 100 * np.std(cv)))\n",
    "\n",
    "model_d2 = {\n",
    "    'lin_svm': LinearSVC(loss='hinge', dual=True), #prim not supported by Linear_SVC with hinge loss and l2 reg\n",
    "    'rbf_svm': SVC(),\n",
    "    'sgd_svm': SGDClassifier()\n",
    "}\n",
    "for key, clf in model_d2.items():\n",
    "    pipeline = Pipeline([\n",
    "        ('scaler', StandardScaler()), \n",
    "        ('clf', clf)\n",
    "    ])\n",
    "    cv = cross_val_score(pipeline, X_train, y_train, scoring='accuracy', cv=3, verbose=2, n_jobs=-1)\n",
    "    print(\"Accuracy for 3Fcv with {} : mean : {:.1f}%, Std : {:.2f}%\".format(key, 100 * cv.mean(), 100 * np.std(cv)))"
   ]
  },
  {
   "cell_type": "markdown",
   "metadata": {},
   "source": [
    "I applied different scalings according to models. My first guess was to go for a simple Min-Max scaling between 0-1 (commonly used for image processsing + several features including many 0s for all the instances). \n",
    "However, Linear_SVC performs regularization on intercept and hence data need to be center around 0 prior to training. Moreovere, sklearn documentation also specifies that : \"Standardization of a dataset is a common requirement for many machine learning estimators [...]. For instance many elements used in the objective function of a learning algorithm (such as the RBF kernel of Support Vector Machines or the l1 and l2 regularizersof linear models) assume that all features are centered around 0 and have variance in the same order.\"\n",
    "\n",
    "I tried both scaling for all the classifiers and I finally chose the scaler giving the best accuracy for each model (i.e. standardization for svm models and min-max scaling for the others). "
   ]
  },
  {
   "cell_type": "markdown",
   "metadata": {},
   "source": [
    "Here, K-N Neighbors, Support Vector Machine and Random Forest are the most promising models for the digits classification.\n",
    "<br>\n",
    "Considering the computation time to train the model, I will only focus my efforts on non-linear SVM classifier for the upcoming steps dedicated to fine-tuning. You will find a fully described solution for KNN in the notebook of the author. Without any pre-processing steps, KNN reached an accuracy of 97.1 % after hyperparameter tuning."
   ]
  },
  {
   "cell_type": "markdown",
   "metadata": {},
   "source": [
    "#### **Focus on SVM - Fine tuning the model**"
   ]
  },
  {
   "cell_type": "markdown",
   "metadata": {},
   "source": [
    "**Pre-processing step : centering image**"
   ]
  },
  {
   "cell_type": "code",
   "execution_count": null,
   "metadata": {},
   "outputs": [],
   "source": [
    "def NonZeroIndices(array, axis):\n",
    "    \"\"\" Returns first and last non zeros indices in an array according to axis (0, 1) / for positive values only \"\"\"\n",
    "    bool_array = np.any((array != 0), axis=axis)\n",
    "    c0 = np.argmax(bool_array)\n",
    "    c1 = bool_array.shape[0] - np.argmax(bool_array[-1::-1]) - 1 #python starts from 0...\n",
    "    return c0, c1"
   ]
  },
  {
   "cell_type": "code",
   "execution_count": null,
   "metadata": {},
   "outputs": [],
   "source": [
    "def CenterImage(array, strategy='center_of_mass'):\n",
    "    \"\"\" Return a centered array from a greyscale image, using 'center_of_mass' or 'personal' strategy\"\"\"\n",
    "    if strategy == 'center_of_mass':\n",
    "        x_array_m, y_array_m = np.median(range(array.shape[0])), np.median(range(array.shape[1]))\n",
    "        x_m, y_m = center_of_mass(array)\n",
    "        dx, dy = (round(x_array_m - x_m), round(y_array_m - y_m)) #add some \"noise\" if d is not an integer\n",
    "    if strategy == 'personal':\n",
    "        x_top, x_bottom = (min(NonZeroIndices(array, axis=1)), array.shape[0] - 1 - max(NonZeroIndices(array, axis=1)))\n",
    "        y_left, y_right = (min(NonZeroIndices(array, axis=0)), array.shape[1] - 1 - max(NonZeroIndices(array, axis=0)))\n",
    "        dx, dy = (round((x_bottom - x_top)/2), round((y_right - y_left)/2)) \n",
    "    return shift(array, [dx, dy], cval=0)"
   ]
  },
  {
   "cell_type": "code",
   "execution_count": null,
   "metadata": {},
   "outputs": [],
   "source": [
    "class ImageCenter(BaseEstimator, TransformerMixin):\n",
    "    def __init__(self, shaped_size=(28, 28), center_strategy='center_of_mass'):\n",
    "        self.shaped_size = shaped_size\n",
    "        self.x_shaped_size = self.shaped_size[0]\n",
    "        self.y_shaped_size = self.shaped_size[1]\n",
    "        self.center_strategy = center_strategy\n",
    "    def fit(self, X, y=None):\n",
    "        return self\n",
    "    def transform(self, X, y=None):\n",
    "        X_center_l = [] \n",
    "        for i in range(X.shape[0]):\n",
    "            shaped_array = X[i].reshape(self.x_shaped_size, self.y_shaped_size)\n",
    "            shaped_array_centered = CenterImage(shaped_array, strategy=self.center_strategy)\n",
    "            X_center_l.append(shaped_array_centered.ravel())\n",
    "        return np.r_[X_center_l]"
   ]
  },
  {
   "cell_type": "code",
   "execution_count": null,
   "metadata": {},
   "outputs": [],
   "source": [
    "sub_sample = 100\n",
    "some_digit = 21\n",
    "X_center_mass = ImageCenter(center_strategy='center_of_mass').fit_transform(X_train[:sub_sample])\n",
    "X_center_pers = ImageCenter(center_strategy='personal').fit_transform(X_train[:sub_sample])\n",
    "\n",
    "fig, ax_arr = plt.subplots(1, 3, figsize=(9, 9))\n",
    "ax_arr[0].imshow(X_train[some_digit].reshape(28, 28), cmap=matplotlib.cm.binary, interpolation=\"nearest\")\n",
    "ax_arr[0].set(title='Original')\n",
    "ax_arr[1].imshow(X_center_mass[some_digit].reshape(28, 28), cmap=matplotlib.cm.binary, interpolation=\"nearest\")\n",
    "ax_arr[1].set(title='Centered (center of mass)')\n",
    "ax_arr[2].imshow(X_center_pers[some_digit].reshape(28, 28), cmap=matplotlib.cm.binary, interpolation=\"nearest\")\n",
    "ax_arr[2].set(title='Centered (personal)')\n",
    "plt.tight_layout()\n",
    "plt.show()"
   ]
  },
  {
   "cell_type": "code",
   "execution_count": null,
   "metadata": {},
   "outputs": [],
   "source": [
    "pipeline = Pipeline([\n",
    "    ('center', ImageCenter()),\n",
    "    ('scaler', StandardScaler()),\n",
    "    ('svm', SVC())\n",
    "])\n",
    "param_grid = [{'center__center_strategy': ['center_of_mass', 'personal']}]\n",
    "cv = GridSearchCV(pipeline, param_grid=param_grid, scoring='accuracy', cv=3, verbose=2, n_jobs=-1)\n",
    "cv.fit(X_train, y_train)\n",
    "print('Best score : {:.1f}%, best parameters : {}'.format(cv.best_score_ * 100, cv.best_params_))"
   ]
  },
  {
   "cell_type": "markdown",
   "metadata": {},
   "source": [
    "**Hyperparameter tuning with RandomizedSearch CV**"
   ]
  },
  {
   "cell_type": "code",
   "execution_count": null,
   "metadata": {},
   "outputs": [],
   "source": [
    "sub_size = 20000\n",
    "X_train_sub, y_train_sub = X_train[:sub_size], y_train[:sub_size]\n",
    "X_train_sub_center = ImageCenter(center_strategy=\"personal\").fit_transform(X_train_sub)\n",
    "\n",
    "pipeline = Pipeline([\n",
    "    ('scaler', StandardScaler()),\n",
    "    ('svm', SVC())\n",
    "])\n",
    "param_grid = {\n",
    "    'svm__kernel': ['rbf'], \n",
    "    'svm__C': reciprocal(0.05, 500), 'svm__gamma': expon(scale=0.01)}\n",
    "\n",
    "cv = RandomizedSearchCV(pipeline, param_distributions=param_grid, n_iter=30, scoring='accuracy', cv=3, random_state=42, verbose=2, n_jobs=-1)\n",
    "\n",
    "cv.fit(X_train_sub_center, y_train_sub)"
   ]
  },
  {
   "cell_type": "code",
   "execution_count": null,
   "metadata": {},
   "outputs": [],
   "source": [
    "print('Best score : {:.1f}%, best parameters : {}'.format(cv.best_score_ * 100, cv.best_params_))\n"
   ]
  },
  {
   "cell_type": "code",
   "execution_count": null,
   "metadata": {},
   "outputs": [],
   "source": [
    "fig = plt.figure()\n",
    "ax = plt.gca()\n",
    "ax.scatter(cv.cv_results_['param_svm__C'], cv.cv_results_['param_svm__gamma'])\n",
    "ax.scatter(cv.best_params_['svm__C'], cv.best_params_['svm__gamma'], c='r', label='Best params')\n",
    "ax.set(xscale='log', yscale='log', \n",
    "       xlim=[0.05, 500], ylim=[np.min(cv.cv_results_['param_svm__gamma'])*(1-0.1), np.max(cv.cv_results_['param_svm__gamma'])*(1+0.1)], \n",
    "       xlabel='C', ylabel='gamma')\n",
    "ax.legend()\n",
    "plt.tight_layout()\n",
    "plt.show()"
   ]
  },
  {
   "cell_type": "markdown",
   "metadata": {},
   "source": [
    "With more computational power and time, it would be interesting to run again a randomized search between 10 and 1000 for C on the full training set. Other kernel for SVM should also be explored (e.g. polynomial, sigmoid). For the current exercise, this small feature space exploration should grant the 97% accuracy objective for the classifier."
   ]
  },
  {
   "cell_type": "code",
   "execution_count": null,
   "metadata": {},
   "outputs": [],
   "source": [
    "best_par = cv.best_params_\n",
    "pipeline = Pipeline([\n",
    "    ('center', ImageCenter(center_strategy='personal')),\n",
    "    ('scaler', StandardScaler()),\n",
    "    ('svm', SVC(C=best_par['svm__C'], gamma=best_par['svm__gamma']))\n",
    "])\n",
    "clf_scores = cross_val_score(pipeline, X_train, y_train, scoring='accuracy', cv=3, verbose=2, n_jobs=-1)"
   ]
  },
  {
   "cell_type": "code",
   "execution_count": null,
   "metadata": {},
   "outputs": [],
   "source": [
    "print(\"Accuracy for 3Fcv with SVM(rbf) : mean : {:.1f}%, Std : {:.2f}%\".format(100 * clf_scores.mean(), 100 * np.std(clf_scores)))"
   ]
  },
  {
   "cell_type": "code",
   "execution_count": null,
   "metadata": {},
   "outputs": [],
   "source": [
    "svm_clf = pipeline.fit(X_train, y_train)\n",
    "os.makedirs(MODEL_SAVING_PATH, exist_ok=True)\n",
    "joblib.dump(svm_clf, os.path.join(MODEL_SAVING_PATH, 'svm_clf.pkl'))"
   ]
  },
  {
   "cell_type": "markdown",
   "metadata": {},
   "source": [
    "#### **Performance on the test set**"
   ]
  },
  {
   "cell_type": "code",
   "execution_count": null,
   "metadata": {},
   "outputs": [],
   "source": [
    "y_pred = svm_clf.predict(X_test)\n",
    "print('Accuracy on the test set : {:.1f}%'.format(accuracy_score(y_test, y_pred)*100))"
   ]
  },
  {
   "cell_type": "markdown",
   "metadata": {},
   "source": [
    "### **Going further ...**"
   ]
  },
  {
   "cell_type": "markdown",
   "metadata": {},
   "source": [
    "**Matrix of confusion**"
   ]
  },
  {
   "cell_type": "code",
   "execution_count": null,
   "metadata": {},
   "outputs": [],
   "source": [
    "y_val_pred = cross_val_predict(pipeline, X_train, y_train, cv=3, verbose=2, n_jobs=-1)\n",
    "conf_mat = confusion_matrix(y_train, y_val_pred)\n",
    "print(conf_mat)"
   ]
  },
  {
   "cell_type": "code",
   "execution_count": null,
   "metadata": {},
   "outputs": [],
   "source": [
    "conf_mat_rel = conf_mat/conf_mat.sum(axis=1, keepdims=True)\n",
    "conf_mat_rel[np.diag_indices_from(conf_mat)] = 0\n",
    "plt.figure(figsize=(8, 8))\n",
    "plt.imshow(conf_mat_rel, cmap=matplotlib.cm.binary)\n",
    "plt.xlabel(\"Predicted values\")\n",
    "plt.xticks(ticks=range(10), labels=range(10))\n",
    "plt.ylabel(\"Actual values\")\n",
    "plt.yticks(ticks=range(10), labels=range(10))\n",
    "plt.colorbar()\n",
    "plt.show()"
   ]
  },
  {
   "cell_type": "code",
   "execution_count": null,
   "metadata": {},
   "outputs": [],
   "source": [
    "cl_a, cl_b = 4, 9\n",
    "X_aa = X_train[(y_train == cl_a) & (y_val_pred == cl_a)]\n",
    "X_ab = X_train[(y_train == cl_a) & (y_val_pred == cl_b)]\n",
    "X_ba = X_train[(y_train == cl_b) & (y_val_pred == cl_a)]\n",
    "X_bb = X_train[(y_train == cl_b) & (y_val_pred == cl_b)]\n",
    "\n",
    "plt.figure(figsize=(8, 8))\n",
    "plt.subplot(221); plot_digits(X_aa[:25], images_per_row=5)\n",
    "plt.title('Well classified 4')\n",
    "plt.subplot(222); plot_digits(X_ab[:25], images_per_row=5)\n",
    "plt.title('4 missclassified as 9')\n",
    "plt.subplot(223); plot_digits(X_ba[:25], images_per_row=5)\n",
    "plt.title('9 missclassified as 4')\n",
    "plt.subplot(224); plot_digits(X_bb[:25], images_per_row=5)\n",
    "plt.title('Well classified 9')\n",
    "plt.show()"
   ]
  },
  {
   "cell_type": "markdown",
   "metadata": {},
   "source": [
    "#### **Data augmentation**"
   ]
  },
  {
   "cell_type": "code",
   "execution_count": null,
   "metadata": {},
   "outputs": [],
   "source": [
    "def Shift_image(flat_array, dx=0, dy=0, im_shape=(28, 28)):\n",
    "    shift_array_l = []\n",
    "    for i in range(flat_array.shape[0]):\n",
    "        im_shaped = flat_array[i].reshape(im_shape)\n",
    "        shift_array = shift(im_shaped, [dx, dy], cval=0)\n",
    "        shift_array_l.append(shift_array.ravel())\n",
    "    return np.r_[shift_array_l]"
   ]
  },
  {
   "cell_type": "code",
   "execution_count": null,
   "metadata": {},
   "outputs": [],
   "source": [
    "X_train_c = ImageCenter(center_strategy='personal').fit_transform(X_train)\n",
    "\n",
    "idx_mask = (y_train == 4) | (y_train == 9) | (y_train == 3) | (y_train == 5)\n",
    "X_train_c_up = Shift_image(X_train_c[idx_mask], dx=-1)\n",
    "X_train_c_down = Shift_image(X_train_c[idx_mask], dx=1)\n",
    "X_train_c_left = Shift_image(X_train_c[idx_mask], dy=-1)\n",
    "X_train_c_right = Shift_image(X_train_c[idx_mask], dy=1)\n"
   ]
  },
  {
   "cell_type": "code",
   "execution_count": null,
   "metadata": {},
   "outputs": [],
   "source": [
    "some_digit = 42\n",
    "some_digit_image = X_train_c[idx_mask][some_digit].reshape(28, 28)\n",
    "some_digit_image_up = X_train_c_up[some_digit].reshape(28, 28)\n",
    "some_digit_image_down = X_train_c_down[some_digit].reshape(28, 28)\n",
    "some_digit_image_left = X_train_c_left[some_digit].reshape(28, 28)\n",
    "some_digit_image_right = X_train_c_right[some_digit].reshape(28, 28)\n",
    "fig, ax_arr = plt.subplots(2, 3, figsize=(9, 6))\n",
    "ax_arr[0, 0].imshow(some_digit_image_left, cmap=matplotlib.cm.binary, interpolation='nearest')\n",
    "ax_arr[0, 1].imshow(some_digit_image, cmap=matplotlib.cm.binary, interpolation='nearest')\n",
    "ax_arr[0, 2].imshow(some_digit_image_right, cmap=matplotlib.cm.binary, interpolation='nearest')\n",
    "ax_arr[1, 0].imshow(some_digit_image_down, cmap=matplotlib.cm.binary, interpolation='nearest')\n",
    "ax_arr[1, 1].imshow(some_digit_image, cmap=matplotlib.cm.binary, interpolation='nearest')\n",
    "ax_arr[1, 2].imshow(some_digit_image_up, cmap=matplotlib.cm.binary, interpolation='nearest')\n",
    "plt.tight_layout()\n",
    "plt.show()"
   ]
  },
  {
   "cell_type": "code",
   "execution_count": null,
   "metadata": {},
   "outputs": [],
   "source": [
    "X_train_shift = np.r_[X_train_c, X_train_c_up, X_train_c_down, X_train_c_left, X_train_c_right]\n",
    "y_train_shift = np.r_[y_train, np.tile(y_train[idx_mask], (4,))]\n",
    "print(X_train_shift.shape, y_train_shift.shape)"
   ]
  },
  {
   "cell_type": "code",
   "execution_count": null,
   "metadata": {},
   "outputs": [],
   "source": [
    "shuffle_index = np.random.permutation(X_train_shift.shape[0])\n",
    "X_train_shift, y_train_shift = X_train_shift[shuffle_index], y_train_shift[shuffle_index]"
   ]
  },
  {
   "cell_type": "code",
   "execution_count": null,
   "metadata": {},
   "outputs": [],
   "source": [
    "pipeline = Pipeline([\n",
    "    ('scaler', StandardScaler()),\n",
    "    ('svm', SVC(C=best_par['svm__C'], gamma=best_par['svm__gamma']))\n",
    "    ])\n",
    "pipeline.fit(X_train_shift, y_train_shift)\n"
   ]
  },
  {
   "cell_type": "code",
   "execution_count": null,
   "metadata": {},
   "outputs": [],
   "source": [
    "y_pred = pipeline.predict(ImageCenter(center_strategy='personal').transform(X_test))\n",
    "print('Accuracy on the test set : {:.1f}%'.format(accuracy_score(y_test, y_pred)*100))"
   ]
  },
  {
   "cell_type": "markdown",
   "metadata": {},
   "source": [
    "Still better than nothing but I was hoping a higher increase of the accuracy with data augmentation. A slightly better score might still be observed with data augmentatation on the full dataset ..."
   ]
  },
  {
   "cell_type": "code",
   "execution_count": null,
   "metadata": {},
   "outputs": [],
   "source": [
    "joblib.dump(pipeline, os.path.join(MODEL_SAVING_PATH, 'final_svm_clf.pkl'))"
   ]
  },
  {
   "cell_type": "markdown",
   "metadata": {},
   "source": [
    "### **Coming next...**"
   ]
  },
  {
   "cell_type": "markdown",
   "metadata": {},
   "source": [
    "I Should definitely try to perform dimension reduction (e.g. PCA, custom croping) prior to classification considering the many \"useless\" features full of 0s (white pixels close to borders). It should significantly speed up training without losing much information.   "
   ]
  }
 ],
 "metadata": {
  "kernelspec": {
   "display_name": "Python 3",
   "language": "python",
   "name": "python3"
  },
  "language_info": {
   "codemirror_mode": {
    "name": "ipython",
    "version": 3
   },
   "file_extension": ".py",
   "mimetype": "text/x-python",
   "name": "python",
   "nbconvert_exporter": "python",
   "pygments_lexer": "ipython3",
   "version": "3.7.1"
  }
 },
 "nbformat": 4,
 "nbformat_minor": 1
}
